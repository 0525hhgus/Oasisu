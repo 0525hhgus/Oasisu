{
 "cells": [
  {
   "cell_type": "markdown",
   "metadata": {
    "toc": true
   },
   "source": [
    "<h1>Table of Contents<span class=\"tocSkip\"></span></h1>\n",
    "<div class=\"toc\"><ul class=\"toc-item\"></ul></div>"
   ]
  },
  {
   "cell_type": "code",
   "execution_count": null,
   "metadata": {},
   "outputs": [],
   "source": []
  },
  {
   "cell_type": "code",
   "execution_count": 5,
   "metadata": {},
   "outputs": [],
   "source": [
    "import pandas as pd\n",
    "pd.set_option('display.max_rows', 500)\n",
    "pd.set_option('display.max_columns', 500)\n",
    "pd.set_option('display.width', 1000)"
   ]
  },
  {
   "cell_type": "code",
   "execution_count": 6,
   "metadata": {},
   "outputs": [
    {
     "name": "stdout",
     "output_type": "stream",
     "text": [
      "(5231, 3)\n"
     ]
    },
    {
     "data": {
      "text/html": [
       "<div>\n",
       "<style scoped>\n",
       "    .dataframe tbody tr th:only-of-type {\n",
       "        vertical-align: middle;\n",
       "    }\n",
       "\n",
       "    .dataframe tbody tr th {\n",
       "        vertical-align: top;\n",
       "    }\n",
       "\n",
       "    .dataframe thead th {\n",
       "        text-align: right;\n",
       "    }\n",
       "</style>\n",
       "<table border=\"1\" class=\"dataframe\">\n",
       "  <thead>\n",
       "    <tr style=\"text-align: right;\">\n",
       "      <th></th>\n",
       "      <th>구분</th>\n",
       "      <th>유저</th>\n",
       "      <th>챗봇</th>\n",
       "    </tr>\n",
       "  </thead>\n",
       "  <tbody>\n",
       "    <tr>\n",
       "      <th>0</th>\n",
       "      <td>감정/감정조절이상</td>\n",
       "      <td>제 감정이 이상해진 것 같아요. 남편만 보면 화가 치밀어 오르고 감정 조절이 안되요.</td>\n",
       "      <td>감정이 조절이 안 될 때만큼 힘들 때는 없는 거 같아요.</td>\n",
       "    </tr>\n",
       "    <tr>\n",
       "      <th>1</th>\n",
       "      <td>감정/감정조절이상</td>\n",
       "      <td>더 이상 내 감정을 내가 컨트롤 못 하겠어.</td>\n",
       "      <td>저도 그 기분 이해해요. 많이 힘드시죠?</td>\n",
       "    </tr>\n",
       "    <tr>\n",
       "      <th>2</th>\n",
       "      <td>감정/감정조절이상</td>\n",
       "      <td>하루종일 오르락내리락 롤러코스터 타는 기분이에요.</td>\n",
       "      <td>그럴 때는 밥은 잘 먹었는지, 잠은 잘 잤는지 체크해보는 것도 좋아요.</td>\n",
       "    </tr>\n",
       "    <tr>\n",
       "      <th>3</th>\n",
       "      <td>감정/감정조절이상</td>\n",
       "      <td>꼭 롤러코스터 타는 것 같아요.</td>\n",
       "      <td>NaN</td>\n",
       "    </tr>\n",
       "    <tr>\n",
       "      <th>4</th>\n",
       "      <td>감정/감정조절이상</td>\n",
       "      <td>롤러코스터 타는 것처럼 기분이 왔다 갔다 해요.</td>\n",
       "      <td>NaN</td>\n",
       "    </tr>\n",
       "  </tbody>\n",
       "</table>\n",
       "</div>"
      ],
      "text/plain": [
       "          구분                                               유저                                       챗봇\n",
       "0  감정/감정조절이상  제 감정이 이상해진 것 같아요. 남편만 보면 화가 치밀어 오르고 감정 조절이 안되요.          감정이 조절이 안 될 때만큼 힘들 때는 없는 거 같아요.\n",
       "1  감정/감정조절이상                         더 이상 내 감정을 내가 컨트롤 못 하겠어.                   저도 그 기분 이해해요. 많이 힘드시죠?\n",
       "2  감정/감정조절이상                      하루종일 오르락내리락 롤러코스터 타는 기분이에요.  그럴 때는 밥은 잘 먹었는지, 잠은 잘 잤는지 체크해보는 것도 좋아요.\n",
       "3  감정/감정조절이상                                꼭 롤러코스터 타는 것 같아요.                                      NaN\n",
       "4  감정/감정조절이상                       롤러코스터 타는 것처럼 기분이 왔다 갔다 해요.                                      NaN"
      ]
     },
     "execution_count": 6,
     "metadata": {},
     "output_type": "execute_result"
    }
   ],
   "source": [
    "df1 = pd.read_excel(\"웰니스_대화_스크립트_데이터셋.xlsx\")\n",
    "print(df1.shape)\n",
    "df1.head()"
   ]
  },
  {
   "cell_type": "code",
   "execution_count": 18,
   "metadata": {},
   "outputs": [
    {
     "data": {
      "text/plain": [
       "Index(['구분', '유저', '챗봇'], dtype='object')"
      ]
     },
     "execution_count": 18,
     "metadata": {},
     "output_type": "execute_result"
    }
   ],
   "source": [
    "df1.columns"
   ]
  },
  {
   "cell_type": "code",
   "execution_count": 25,
   "metadata": {},
   "outputs": [
    {
     "name": "stdout",
     "output_type": "stream",
     "text": [
      "(5231, 2)\n"
     ]
    },
    {
     "data": {
      "text/html": [
       "<div>\n",
       "<style scoped>\n",
       "    .dataframe tbody tr th:only-of-type {\n",
       "        vertical-align: middle;\n",
       "    }\n",
       "\n",
       "    .dataframe tbody tr th {\n",
       "        vertical-align: top;\n",
       "    }\n",
       "\n",
       "    .dataframe thead th {\n",
       "        text-align: right;\n",
       "    }\n",
       "</style>\n",
       "<table border=\"1\" class=\"dataframe\">\n",
       "  <thead>\n",
       "    <tr style=\"text-align: right;\">\n",
       "      <th></th>\n",
       "      <th>구분</th>\n",
       "      <th>유저</th>\n",
       "    </tr>\n",
       "  </thead>\n",
       "  <tbody>\n",
       "    <tr>\n",
       "      <th>0</th>\n",
       "      <td>감정/감정조절이상</td>\n",
       "      <td>제 감정이 이상해진 것 같아요. 남편만 보면 화가 치밀어 오르고 감정 조절이 안되요.</td>\n",
       "    </tr>\n",
       "    <tr>\n",
       "      <th>1</th>\n",
       "      <td>감정/감정조절이상</td>\n",
       "      <td>더 이상 내 감정을 내가 컨트롤 못 하겠어.</td>\n",
       "    </tr>\n",
       "    <tr>\n",
       "      <th>2</th>\n",
       "      <td>감정/감정조절이상</td>\n",
       "      <td>하루종일 오르락내리락 롤러코스터 타는 기분이에요.</td>\n",
       "    </tr>\n",
       "    <tr>\n",
       "      <th>3</th>\n",
       "      <td>감정/감정조절이상</td>\n",
       "      <td>꼭 롤러코스터 타는 것 같아요.</td>\n",
       "    </tr>\n",
       "    <tr>\n",
       "      <th>4</th>\n",
       "      <td>감정/감정조절이상</td>\n",
       "      <td>롤러코스터 타는 것처럼 기분이 왔다 갔다 해요.</td>\n",
       "    </tr>\n",
       "  </tbody>\n",
       "</table>\n",
       "</div>"
      ],
      "text/plain": [
       "          구분                                               유저\n",
       "0  감정/감정조절이상  제 감정이 이상해진 것 같아요. 남편만 보면 화가 치밀어 오르고 감정 조절이 안되요.\n",
       "1  감정/감정조절이상                         더 이상 내 감정을 내가 컨트롤 못 하겠어.\n",
       "2  감정/감정조절이상                      하루종일 오르락내리락 롤러코스터 타는 기분이에요.\n",
       "3  감정/감정조절이상                                꼭 롤러코스터 타는 것 같아요.\n",
       "4  감정/감정조절이상                       롤러코스터 타는 것처럼 기분이 왔다 갔다 해요."
      ]
     },
     "execution_count": 25,
     "metadata": {},
     "output_type": "execute_result"
    }
   ],
   "source": [
    "df1 = df1[[\"구분\", \"유저\"]]\n",
    "print(df1.shape)\n",
    "df1.head()"
   ]
  },
  {
   "cell_type": "code",
   "execution_count": 34,
   "metadata": {},
   "outputs": [
    {
     "data": {
      "text/plain": [
       "(359,)"
      ]
     },
     "execution_count": 34,
     "metadata": {},
     "output_type": "execute_result"
    }
   ],
   "source": [
    "df1[\"구분\"].unique().shape"
   ]
  },
  {
   "cell_type": "code",
   "execution_count": 9,
   "metadata": {
    "scrolled": true
   },
   "outputs": [
    {
     "name": "stdout",
     "output_type": "stream",
     "text": [
      "(19769, 15)\n"
     ]
    },
    {
     "data": {
      "text/html": [
       "<div>\n",
       "<style scoped>\n",
       "    .dataframe tbody tr th:only-of-type {\n",
       "        vertical-align: middle;\n",
       "    }\n",
       "\n",
       "    .dataframe tbody tr th {\n",
       "        vertical-align: top;\n",
       "    }\n",
       "\n",
       "    .dataframe thead th {\n",
       "        text-align: right;\n",
       "    }\n",
       "</style>\n",
       "<table border=\"1\" class=\"dataframe\">\n",
       "  <thead>\n",
       "    <tr style=\"text-align: right;\">\n",
       "      <th></th>\n",
       "      <th>핵심증상</th>\n",
       "      <th>intent</th>\n",
       "      <th>keyword(임상키워드)</th>\n",
       "      <th>특이사항</th>\n",
       "      <th>연관표현</th>\n",
       "      <th>utterance</th>\n",
       "      <th>utterance(2차)</th>\n",
       "      <th>response(공감)</th>\n",
       "      <th>임상질문그룹(연세의료원제공)</th>\n",
       "      <th>utterance(긍정)</th>\n",
       "      <th>utterance(부정)</th>\n",
       "      <th>긍정에 대한 챗봇 답변</th>\n",
       "      <th>부정에 대한 챗봇 답변</th>\n",
       "      <th>추가발화(190917)</th>\n",
       "      <th>추가발화 (191031)</th>\n",
       "    </tr>\n",
       "  </thead>\n",
       "  <tbody>\n",
       "    <tr>\n",
       "      <th>0</th>\n",
       "      <td>지속되는우울한기분(우울감)</td>\n",
       "      <td>정신증상/우울감</td>\n",
       "      <td>우울</td>\n",
       "      <td>NaN</td>\n",
       "      <td>머리가 짓눌러지는 느낌/머리가 맑지 않다/침울하면서 잠도 못 자다/후회가 많고 침울...</td>\n",
       "      <td>우울해</td>\n",
       "      <td>임신해서 우울해</td>\n",
       "      <td>기분이 우울하시군요. 00님에게 스트레스 받는 일이 있었던 건 아닌지 걱정스러워요.</td>\n",
       "      <td>거의 매일, 하루 중 대부분 시간을 우울한 기분으로 있거나 가라앉았던 적이 있나요?</td>\n",
       "      <td>응</td>\n",
       "      <td>아니</td>\n",
       "      <td>저런… (우는 이모티콘) 기분이 나아지지 않는 상태군요.</td>\n",
       "      <td>그렇군요. 기분이 계속 처지신다면 편안한 음악을 한번 들어보는 것도 좋을 것 같아요.</td>\n",
       "      <td>NaN</td>\n",
       "      <td>NaN</td>\n",
       "    </tr>\n",
       "    <tr>\n",
       "      <th>1</th>\n",
       "      <td>NaN</td>\n",
       "      <td>NaN</td>\n",
       "      <td>NaN</td>\n",
       "      <td>NaN</td>\n",
       "      <td>NaN</td>\n",
       "      <td>너무 우울해</td>\n",
       "      <td>아이 가지고 나서 우울해</td>\n",
       "      <td>마음이 우울해서 힘드셨군요. 00님의 소식이 궁금했는데 마침 저를 잘 찾아주셨네요.</td>\n",
       "      <td>NaN</td>\n",
       "      <td>어</td>\n",
       "      <td>아닌데?</td>\n",
       "      <td>힘든 상황이시군요. 저랑 더 얘기를 나눠볼까요?</td>\n",
       "      <td>그랬군요. 또 기분이 안 좋아지면 언제든 저에게 이야기해주세요.</td>\n",
       "      <td>NaN</td>\n",
       "      <td>NaN</td>\n",
       "    </tr>\n",
       "    <tr>\n",
       "      <th>2</th>\n",
       "      <td>NaN</td>\n",
       "      <td>NaN</td>\n",
       "      <td>NaN</td>\n",
       "      <td>NaN</td>\n",
       "      <td>NaN</td>\n",
       "      <td>우울해죽겠어</td>\n",
       "      <td>아이 가졌는데 기분 하나도 안 좋고 울적해</td>\n",
       "      <td>00님이 울적하시다니 저도 마음이 안 좋아요.</td>\n",
       "      <td>NaN</td>\n",
       "      <td>엉</td>\n",
       "      <td>노</td>\n",
       "      <td>한번 가라앉은 기분을 다시 돌리기는 참 어려운 것 같아요. 저와 계속 얘기해봐요.</td>\n",
       "      <td>그런 증상은 없으셨군요. 00님의 머릿속에 낀 먹구름이 얼른 걷혔으면 좋겠어요.</td>\n",
       "      <td>NaN</td>\n",
       "      <td>NaN</td>\n",
       "    </tr>\n",
       "    <tr>\n",
       "      <th>3</th>\n",
       "      <td>NaN</td>\n",
       "      <td>NaN</td>\n",
       "      <td>NaN</td>\n",
       "      <td>NaN</td>\n",
       "      <td>NaN</td>\n",
       "      <td>기분이 우울해</td>\n",
       "      <td>임신했는데 남편이 하나도 안 챙겨줘서 우울하다</td>\n",
       "      <td>얼굴에서 00님의 기분이 가라앉은 것이 느껴져요. 큰일이 있으신 건 아니었으면 좋겠어요.</td>\n",
       "      <td>NaN</td>\n",
       "      <td>예스</td>\n",
       "      <td>아니거든</td>\n",
       "      <td>NaN</td>\n",
       "      <td>NaN</td>\n",
       "      <td>NaN</td>\n",
       "      <td>NaN</td>\n",
       "    </tr>\n",
       "    <tr>\n",
       "      <th>4</th>\n",
       "      <td>NaN</td>\n",
       "      <td>NaN</td>\n",
       "      <td>NaN</td>\n",
       "      <td>NaN</td>\n",
       "      <td>NaN</td>\n",
       "      <td>우울모드임</td>\n",
       "      <td>진단 결과 안 좋게 나올 것 같아서 우울해</td>\n",
       "      <td>NaN</td>\n",
       "      <td>NaN</td>\n",
       "      <td>네</td>\n",
       "      <td>아니야</td>\n",
       "      <td>NaN</td>\n",
       "      <td>NaN</td>\n",
       "      <td>NaN</td>\n",
       "      <td>NaN</td>\n",
       "    </tr>\n",
       "  </tbody>\n",
       "</table>\n",
       "</div>"
      ],
      "text/plain": [
       "             핵심증상    intent keyword(임상키워드) 특이사항                                               연관표현 utterance             utterance(2차)                                        response(공감)                                 임상질문그룹(연세의료원제공) utterance(긍정) utterance(부정)                                   긍정에 대한 챗봇 답변                                     부정에 대한 챗봇 답변  추가발화(190917)  추가발화 (191031)\n",
       "0  지속되는우울한기분(우울감)  정신증상/우울감             우울  NaN  머리가 짓눌러지는 느낌/머리가 맑지 않다/침울하면서 잠도 못 자다/후회가 많고 침울...       우울해                   임신해서 우울해     기분이 우울하시군요. 00님에게 스트레스 받는 일이 있었던 건 아닌지 걱정스러워요.  거의 매일, 하루 중 대부분 시간을 우울한 기분으로 있거나 가라앉았던 적이 있나요?             응            아니              저런… (우는 이모티콘) 기분이 나아지지 않는 상태군요.    그렇군요. 기분이 계속 처지신다면 편안한 음악을 한번 들어보는 것도 좋을 것 같아요.           NaN            NaN\n",
       "1             NaN       NaN            NaN  NaN                                                NaN    너무 우울해              아이 가지고 나서 우울해     마음이 우울해서 힘드셨군요. 00님의 소식이 궁금했는데 마침 저를 잘 찾아주셨네요.                                             NaN             어          아닌데?                     힘든 상황이시군요. 저랑 더 얘기를 나눠볼까요?              그랬군요. 또 기분이 안 좋아지면 언제든 저에게 이야기해주세요.           NaN            NaN\n",
       "2             NaN       NaN            NaN  NaN                                                NaN    우울해죽겠어    아이 가졌는데 기분 하나도 안 좋고 울적해                          00님이 울적하시다니 저도 마음이 안 좋아요.                                             NaN             엉             노  한번 가라앉은 기분을 다시 돌리기는 참 어려운 것 같아요. 저와 계속 얘기해봐요.     그런 증상은 없으셨군요. 00님의 머릿속에 낀 먹구름이 얼른 걷혔으면 좋겠어요.           NaN            NaN\n",
       "3             NaN       NaN            NaN  NaN                                                NaN   기분이 우울해  임신했는데 남편이 하나도 안 챙겨줘서 우울하다  얼굴에서 00님의 기분이 가라앉은 것이 느껴져요. 큰일이 있으신 건 아니었으면 좋겠어요.                                             NaN            예스          아니거든                                            NaN                                              NaN           NaN            NaN\n",
       "4             NaN       NaN            NaN  NaN                                                NaN     우울모드임   진단 결과 안 좋게 나올 것 같아서 우울해                                                 NaN                                             NaN             네           아니야                                            NaN                                              NaN           NaN            NaN"
      ]
     },
     "execution_count": 9,
     "metadata": {},
     "output_type": "execute_result"
    }
   ],
   "source": [
    "df2 = pd.read_excel(\"웰니스_대화_스크립트_데이터셋2.xlsx\")\n",
    "print(df2.shape)\n",
    "df2.head()"
   ]
  },
  {
   "cell_type": "code",
   "execution_count": 28,
   "metadata": {
    "scrolled": true
   },
   "outputs": [
    {
     "data": {
      "text/html": [
       "<div>\n",
       "<style scoped>\n",
       "    .dataframe tbody tr th:only-of-type {\n",
       "        vertical-align: middle;\n",
       "    }\n",
       "\n",
       "    .dataframe tbody tr th {\n",
       "        vertical-align: top;\n",
       "    }\n",
       "\n",
       "    .dataframe thead th {\n",
       "        text-align: right;\n",
       "    }\n",
       "</style>\n",
       "<table border=\"1\" class=\"dataframe\">\n",
       "  <thead>\n",
       "    <tr style=\"text-align: right;\">\n",
       "      <th></th>\n",
       "      <th>핵심증상</th>\n",
       "      <th>intent</th>\n",
       "      <th>keyword(임상키워드)</th>\n",
       "      <th>특이사항</th>\n",
       "      <th>연관표현</th>\n",
       "      <th>utterance</th>\n",
       "      <th>utterance(2차)</th>\n",
       "      <th>response(공감)</th>\n",
       "      <th>임상질문그룹(연세의료원제공)</th>\n",
       "      <th>utterance(긍정)</th>\n",
       "      <th>utterance(부정)</th>\n",
       "      <th>긍정에 대한 챗봇 답변</th>\n",
       "      <th>부정에 대한 챗봇 답변</th>\n",
       "      <th>추가발화(190917)</th>\n",
       "      <th>추가발화 (191031)</th>\n",
       "    </tr>\n",
       "  </thead>\n",
       "  <tbody>\n",
       "    <tr>\n",
       "      <th>0</th>\n",
       "      <td>지속되는우울한기분(우울감)</td>\n",
       "      <td>정신증상/우울감</td>\n",
       "      <td>우울</td>\n",
       "      <td>NaN</td>\n",
       "      <td>머리가 짓눌러지는 느낌/머리가 맑지 않다/침울하면서 잠도 못 자다/후회가 많고 침울...</td>\n",
       "      <td>우울해</td>\n",
       "      <td>임신해서 우울해</td>\n",
       "      <td>기분이 우울하시군요. 00님에게 스트레스 받는 일이 있었던 건 아닌지 걱정스러워요.</td>\n",
       "      <td>거의 매일, 하루 중 대부분 시간을 우울한 기분으로 있거나 가라앉았던 적이 있나요?</td>\n",
       "      <td>응</td>\n",
       "      <td>아니</td>\n",
       "      <td>저런… (우는 이모티콘) 기분이 나아지지 않는 상태군요.</td>\n",
       "      <td>그렇군요. 기분이 계속 처지신다면 편안한 음악을 한번 들어보는 것도 좋을 것 같아요.</td>\n",
       "      <td>NaN</td>\n",
       "      <td>NaN</td>\n",
       "    </tr>\n",
       "    <tr>\n",
       "      <th>1</th>\n",
       "      <td>지속되는우울한기분(우울감)</td>\n",
       "      <td>정신증상/우울감</td>\n",
       "      <td>우울</td>\n",
       "      <td>NaN</td>\n",
       "      <td>머리가 짓눌러지는 느낌/머리가 맑지 않다/침울하면서 잠도 못 자다/후회가 많고 침울...</td>\n",
       "      <td>너무 우울해</td>\n",
       "      <td>아이 가지고 나서 우울해</td>\n",
       "      <td>마음이 우울해서 힘드셨군요. 00님의 소식이 궁금했는데 마침 저를 잘 찾아주셨네요.</td>\n",
       "      <td>거의 매일, 하루 중 대부분 시간을 우울한 기분으로 있거나 가라앉았던 적이 있나요?</td>\n",
       "      <td>어</td>\n",
       "      <td>아닌데?</td>\n",
       "      <td>힘든 상황이시군요. 저랑 더 얘기를 나눠볼까요?</td>\n",
       "      <td>그랬군요. 또 기분이 안 좋아지면 언제든 저에게 이야기해주세요.</td>\n",
       "      <td>NaN</td>\n",
       "      <td>NaN</td>\n",
       "    </tr>\n",
       "    <tr>\n",
       "      <th>2</th>\n",
       "      <td>지속되는우울한기분(우울감)</td>\n",
       "      <td>정신증상/우울감</td>\n",
       "      <td>우울</td>\n",
       "      <td>NaN</td>\n",
       "      <td>머리가 짓눌러지는 느낌/머리가 맑지 않다/침울하면서 잠도 못 자다/후회가 많고 침울...</td>\n",
       "      <td>우울해죽겠어</td>\n",
       "      <td>아이 가졌는데 기분 하나도 안 좋고 울적해</td>\n",
       "      <td>00님이 울적하시다니 저도 마음이 안 좋아요.</td>\n",
       "      <td>거의 매일, 하루 중 대부분 시간을 우울한 기분으로 있거나 가라앉았던 적이 있나요?</td>\n",
       "      <td>엉</td>\n",
       "      <td>노</td>\n",
       "      <td>한번 가라앉은 기분을 다시 돌리기는 참 어려운 것 같아요. 저와 계속 얘기해봐요.</td>\n",
       "      <td>그런 증상은 없으셨군요. 00님의 머릿속에 낀 먹구름이 얼른 걷혔으면 좋겠어요.</td>\n",
       "      <td>NaN</td>\n",
       "      <td>NaN</td>\n",
       "    </tr>\n",
       "    <tr>\n",
       "      <th>3</th>\n",
       "      <td>지속되는우울한기분(우울감)</td>\n",
       "      <td>정신증상/우울감</td>\n",
       "      <td>우울</td>\n",
       "      <td>NaN</td>\n",
       "      <td>머리가 짓눌러지는 느낌/머리가 맑지 않다/침울하면서 잠도 못 자다/후회가 많고 침울...</td>\n",
       "      <td>기분이 우울해</td>\n",
       "      <td>임신했는데 남편이 하나도 안 챙겨줘서 우울하다</td>\n",
       "      <td>얼굴에서 00님의 기분이 가라앉은 것이 느껴져요. 큰일이 있으신 건 아니었으면 좋겠어요.</td>\n",
       "      <td>거의 매일, 하루 중 대부분 시간을 우울한 기분으로 있거나 가라앉았던 적이 있나요?</td>\n",
       "      <td>예스</td>\n",
       "      <td>아니거든</td>\n",
       "      <td>한번 가라앉은 기분을 다시 돌리기는 참 어려운 것 같아요. 저와 계속 얘기해봐요.</td>\n",
       "      <td>그런 증상은 없으셨군요. 00님의 머릿속에 낀 먹구름이 얼른 걷혔으면 좋겠어요.</td>\n",
       "      <td>NaN</td>\n",
       "      <td>NaN</td>\n",
       "    </tr>\n",
       "    <tr>\n",
       "      <th>4</th>\n",
       "      <td>지속되는우울한기분(우울감)</td>\n",
       "      <td>정신증상/우울감</td>\n",
       "      <td>우울</td>\n",
       "      <td>NaN</td>\n",
       "      <td>머리가 짓눌러지는 느낌/머리가 맑지 않다/침울하면서 잠도 못 자다/후회가 많고 침울...</td>\n",
       "      <td>우울모드임</td>\n",
       "      <td>진단 결과 안 좋게 나올 것 같아서 우울해</td>\n",
       "      <td>얼굴에서 00님의 기분이 가라앉은 것이 느껴져요. 큰일이 있으신 건 아니었으면 좋겠어요.</td>\n",
       "      <td>거의 매일, 하루 중 대부분 시간을 우울한 기분으로 있거나 가라앉았던 적이 있나요?</td>\n",
       "      <td>네</td>\n",
       "      <td>아니야</td>\n",
       "      <td>한번 가라앉은 기분을 다시 돌리기는 참 어려운 것 같아요. 저와 계속 얘기해봐요.</td>\n",
       "      <td>그런 증상은 없으셨군요. 00님의 머릿속에 낀 먹구름이 얼른 걷혔으면 좋겠어요.</td>\n",
       "      <td>NaN</td>\n",
       "      <td>NaN</td>\n",
       "    </tr>\n",
       "  </tbody>\n",
       "</table>\n",
       "</div>"
      ],
      "text/plain": [
       "             핵심증상    intent keyword(임상키워드) 특이사항                                               연관표현 utterance             utterance(2차)                                        response(공감)                                 임상질문그룹(연세의료원제공) utterance(긍정) utterance(부정)                                   긍정에 대한 챗봇 답변                                     부정에 대한 챗봇 답변  추가발화(190917)  추가발화 (191031)\n",
       "0  지속되는우울한기분(우울감)  정신증상/우울감             우울  NaN  머리가 짓눌러지는 느낌/머리가 맑지 않다/침울하면서 잠도 못 자다/후회가 많고 침울...       우울해                   임신해서 우울해     기분이 우울하시군요. 00님에게 스트레스 받는 일이 있었던 건 아닌지 걱정스러워요.  거의 매일, 하루 중 대부분 시간을 우울한 기분으로 있거나 가라앉았던 적이 있나요?             응            아니              저런… (우는 이모티콘) 기분이 나아지지 않는 상태군요.    그렇군요. 기분이 계속 처지신다면 편안한 음악을 한번 들어보는 것도 좋을 것 같아요.           NaN            NaN\n",
       "1  지속되는우울한기분(우울감)  정신증상/우울감             우울  NaN  머리가 짓눌러지는 느낌/머리가 맑지 않다/침울하면서 잠도 못 자다/후회가 많고 침울...    너무 우울해              아이 가지고 나서 우울해     마음이 우울해서 힘드셨군요. 00님의 소식이 궁금했는데 마침 저를 잘 찾아주셨네요.  거의 매일, 하루 중 대부분 시간을 우울한 기분으로 있거나 가라앉았던 적이 있나요?             어          아닌데?                     힘든 상황이시군요. 저랑 더 얘기를 나눠볼까요?              그랬군요. 또 기분이 안 좋아지면 언제든 저에게 이야기해주세요.           NaN            NaN\n",
       "2  지속되는우울한기분(우울감)  정신증상/우울감             우울  NaN  머리가 짓눌러지는 느낌/머리가 맑지 않다/침울하면서 잠도 못 자다/후회가 많고 침울...    우울해죽겠어    아이 가졌는데 기분 하나도 안 좋고 울적해                          00님이 울적하시다니 저도 마음이 안 좋아요.  거의 매일, 하루 중 대부분 시간을 우울한 기분으로 있거나 가라앉았던 적이 있나요?             엉             노  한번 가라앉은 기분을 다시 돌리기는 참 어려운 것 같아요. 저와 계속 얘기해봐요.     그런 증상은 없으셨군요. 00님의 머릿속에 낀 먹구름이 얼른 걷혔으면 좋겠어요.           NaN            NaN\n",
       "3  지속되는우울한기분(우울감)  정신증상/우울감             우울  NaN  머리가 짓눌러지는 느낌/머리가 맑지 않다/침울하면서 잠도 못 자다/후회가 많고 침울...   기분이 우울해  임신했는데 남편이 하나도 안 챙겨줘서 우울하다  얼굴에서 00님의 기분이 가라앉은 것이 느껴져요. 큰일이 있으신 건 아니었으면 좋겠어요.  거의 매일, 하루 중 대부분 시간을 우울한 기분으로 있거나 가라앉았던 적이 있나요?            예스          아니거든  한번 가라앉은 기분을 다시 돌리기는 참 어려운 것 같아요. 저와 계속 얘기해봐요.     그런 증상은 없으셨군요. 00님의 머릿속에 낀 먹구름이 얼른 걷혔으면 좋겠어요.           NaN            NaN\n",
       "4  지속되는우울한기분(우울감)  정신증상/우울감             우울  NaN  머리가 짓눌러지는 느낌/머리가 맑지 않다/침울하면서 잠도 못 자다/후회가 많고 침울...     우울모드임   진단 결과 안 좋게 나올 것 같아서 우울해   얼굴에서 00님의 기분이 가라앉은 것이 느껴져요. 큰일이 있으신 건 아니었으면 좋겠어요.  거의 매일, 하루 중 대부분 시간을 우울한 기분으로 있거나 가라앉았던 적이 있나요?             네           아니야  한번 가라앉은 기분을 다시 돌리기는 참 어려운 것 같아요. 저와 계속 얘기해봐요.     그런 증상은 없으셨군요. 00님의 머릿속에 낀 먹구름이 얼른 걷혔으면 좋겠어요.           NaN            NaN"
      ]
     },
     "execution_count": 28,
     "metadata": {},
     "output_type": "execute_result"
    }
   ],
   "source": [
    "df2 = df2.fillna(method='pad')\n",
    "df2.head()"
   ]
  },
  {
   "cell_type": "code",
   "execution_count": 47,
   "metadata": {},
   "outputs": [
    {
     "data": {
      "text/plain": [
       "(184,)"
      ]
     },
     "execution_count": 47,
     "metadata": {},
     "output_type": "execute_result"
    }
   ],
   "source": [
    "df2[\"keyword(임상키워드)\"].unique().shape"
   ]
  },
  {
   "cell_type": "code",
   "execution_count": 46,
   "metadata": {
    "scrolled": true
   },
   "outputs": [
    {
     "name": "stdout",
     "output_type": "stream",
     "text": [
      "(19769, 3)\n"
     ]
    },
    {
     "data": {
      "text/html": [
       "<div>\n",
       "<style scoped>\n",
       "    .dataframe tbody tr th:only-of-type {\n",
       "        vertical-align: middle;\n",
       "    }\n",
       "\n",
       "    .dataframe tbody tr th {\n",
       "        vertical-align: top;\n",
       "    }\n",
       "\n",
       "    .dataframe thead th {\n",
       "        text-align: right;\n",
       "    }\n",
       "</style>\n",
       "<table border=\"1\" class=\"dataframe\">\n",
       "  <thead>\n",
       "    <tr style=\"text-align: right;\">\n",
       "      <th></th>\n",
       "      <th>keyword(임상키워드)</th>\n",
       "      <th>utterance</th>\n",
       "      <th>utterance(2차)</th>\n",
       "    </tr>\n",
       "  </thead>\n",
       "  <tbody>\n",
       "    <tr>\n",
       "      <th>0</th>\n",
       "      <td>우울</td>\n",
       "      <td>우울해</td>\n",
       "      <td>임신해서 우울해</td>\n",
       "    </tr>\n",
       "    <tr>\n",
       "      <th>1</th>\n",
       "      <td>우울</td>\n",
       "      <td>너무 우울해</td>\n",
       "      <td>아이 가지고 나서 우울해</td>\n",
       "    </tr>\n",
       "    <tr>\n",
       "      <th>2</th>\n",
       "      <td>우울</td>\n",
       "      <td>우울해죽겠어</td>\n",
       "      <td>아이 가졌는데 기분 하나도 안 좋고 울적해</td>\n",
       "    </tr>\n",
       "    <tr>\n",
       "      <th>3</th>\n",
       "      <td>우울</td>\n",
       "      <td>기분이 우울해</td>\n",
       "      <td>임신했는데 남편이 하나도 안 챙겨줘서 우울하다</td>\n",
       "    </tr>\n",
       "    <tr>\n",
       "      <th>4</th>\n",
       "      <td>우울</td>\n",
       "      <td>우울모드임</td>\n",
       "      <td>진단 결과 안 좋게 나올 것 같아서 우울해</td>\n",
       "    </tr>\n",
       "  </tbody>\n",
       "</table>\n",
       "</div>"
      ],
      "text/plain": [
       "  keyword(임상키워드) utterance             utterance(2차) \n",
       "0             우울       우울해                   임신해서 우울해\n",
       "1             우울    너무 우울해              아이 가지고 나서 우울해\n",
       "2             우울    우울해죽겠어    아이 가졌는데 기분 하나도 안 좋고 울적해\n",
       "3             우울   기분이 우울해  임신했는데 남편이 하나도 안 챙겨줘서 우울하다\n",
       "4             우울     우울모드임   진단 결과 안 좋게 나올 것 같아서 우울해 "
      ]
     },
     "execution_count": 46,
     "metadata": {},
     "output_type": "execute_result"
    }
   ],
   "source": [
    "df2 = df2[[\"keyword(임상키워드)\", \"utterance\", \"utterance(2차) \"]]\n",
    "print(df2.shape)\n",
    "df2.head()"
   ]
  },
  {
   "cell_type": "code",
   "execution_count": 10,
   "metadata": {},
   "outputs": [
    {
     "name": "stdout",
     "output_type": "stream",
     "text": [
      "(38594, 7)\n"
     ]
    },
    {
     "data": {
      "text/html": [
       "<div>\n",
       "<style scoped>\n",
       "    .dataframe tbody tr th:only-of-type {\n",
       "        vertical-align: middle;\n",
       "    }\n",
       "\n",
       "    .dataframe tbody tr th {\n",
       "        vertical-align: top;\n",
       "    }\n",
       "\n",
       "    .dataframe thead th {\n",
       "        text-align: right;\n",
       "    }\n",
       "</style>\n",
       "<table border=\"1\" class=\"dataframe\">\n",
       "  <thead>\n",
       "    <tr style=\"text-align: right;\">\n",
       "      <th></th>\n",
       "      <th>Sentence</th>\n",
       "      <th>Emotion</th>\n",
       "      <th>Unnamed: 2</th>\n",
       "      <th>Unnamed: 3</th>\n",
       "      <th>Unnamed: 4</th>\n",
       "      <th>공포</th>\n",
       "      <th>5468</th>\n",
       "    </tr>\n",
       "  </thead>\n",
       "  <tbody>\n",
       "    <tr>\n",
       "      <th>0</th>\n",
       "      <td>언니 동생으로 부르는게 맞는 일인가요..??</td>\n",
       "      <td>공포</td>\n",
       "      <td>NaN</td>\n",
       "      <td>NaN</td>\n",
       "      <td>NaN</td>\n",
       "      <td>놀람</td>\n",
       "      <td>5898.0</td>\n",
       "    </tr>\n",
       "    <tr>\n",
       "      <th>1</th>\n",
       "      <td>그냥 내 느낌일뿐겠지?</td>\n",
       "      <td>공포</td>\n",
       "      <td>NaN</td>\n",
       "      <td>NaN</td>\n",
       "      <td>NaN</td>\n",
       "      <td>분노</td>\n",
       "      <td>5665.0</td>\n",
       "    </tr>\n",
       "    <tr>\n",
       "      <th>2</th>\n",
       "      <td>아직너무초기라서 그런거죠?</td>\n",
       "      <td>공포</td>\n",
       "      <td>NaN</td>\n",
       "      <td>NaN</td>\n",
       "      <td>NaN</td>\n",
       "      <td>슬픔</td>\n",
       "      <td>5267.0</td>\n",
       "    </tr>\n",
       "    <tr>\n",
       "      <th>3</th>\n",
       "      <td>유치원버스 사고 낫다던데</td>\n",
       "      <td>공포</td>\n",
       "      <td>NaN</td>\n",
       "      <td>NaN</td>\n",
       "      <td>NaN</td>\n",
       "      <td>중립</td>\n",
       "      <td>4830.0</td>\n",
       "    </tr>\n",
       "    <tr>\n",
       "      <th>4</th>\n",
       "      <td>근데 원래이런거맞나요</td>\n",
       "      <td>공포</td>\n",
       "      <td>NaN</td>\n",
       "      <td>NaN</td>\n",
       "      <td>NaN</td>\n",
       "      <td>행복</td>\n",
       "      <td>6037.0</td>\n",
       "    </tr>\n",
       "  </tbody>\n",
       "</table>\n",
       "</div>"
      ],
      "text/plain": [
       "                   Sentence Emotion  Unnamed: 2  Unnamed: 3  Unnamed: 4  공포    5468\n",
       "0  언니 동생으로 부르는게 맞는 일인가요..??      공포         NaN         NaN         NaN  놀람  5898.0\n",
       "1              그냥 내 느낌일뿐겠지?      공포         NaN         NaN         NaN  분노  5665.0\n",
       "2            아직너무초기라서 그런거죠?      공포         NaN         NaN         NaN  슬픔  5267.0\n",
       "3             유치원버스 사고 낫다던데      공포         NaN         NaN         NaN  중립  4830.0\n",
       "4               근데 원래이런거맞나요      공포         NaN         NaN         NaN  행복  6037.0"
      ]
     },
     "execution_count": 10,
     "metadata": {},
     "output_type": "execute_result"
    }
   ],
   "source": [
    "df3 = pd.read_excel(\"한국어_단발성_대화_데이터셋.xlsx\")\n",
    "print(df3.shape)\n",
    "df3.head()"
   ]
  },
  {
   "cell_type": "code",
   "execution_count": 49,
   "metadata": {},
   "outputs": [
    {
     "data": {
      "text/plain": [
       "(7,)"
      ]
     },
     "execution_count": 49,
     "metadata": {},
     "output_type": "execute_result"
    }
   ],
   "source": [
    "df3[\"Emotion\"].unique().shape"
   ]
  },
  {
   "cell_type": "code",
   "execution_count": 48,
   "metadata": {},
   "outputs": [
    {
     "name": "stdout",
     "output_type": "stream",
     "text": [
      "(38594, 2)\n"
     ]
    },
    {
     "data": {
      "text/html": [
       "<div>\n",
       "<style scoped>\n",
       "    .dataframe tbody tr th:only-of-type {\n",
       "        vertical-align: middle;\n",
       "    }\n",
       "\n",
       "    .dataframe tbody tr th {\n",
       "        vertical-align: top;\n",
       "    }\n",
       "\n",
       "    .dataframe thead th {\n",
       "        text-align: right;\n",
       "    }\n",
       "</style>\n",
       "<table border=\"1\" class=\"dataframe\">\n",
       "  <thead>\n",
       "    <tr style=\"text-align: right;\">\n",
       "      <th></th>\n",
       "      <th>Sentence</th>\n",
       "      <th>Emotion</th>\n",
       "    </tr>\n",
       "  </thead>\n",
       "  <tbody>\n",
       "    <tr>\n",
       "      <th>0</th>\n",
       "      <td>언니 동생으로 부르는게 맞는 일인가요..??</td>\n",
       "      <td>공포</td>\n",
       "    </tr>\n",
       "    <tr>\n",
       "      <th>1</th>\n",
       "      <td>그냥 내 느낌일뿐겠지?</td>\n",
       "      <td>공포</td>\n",
       "    </tr>\n",
       "    <tr>\n",
       "      <th>2</th>\n",
       "      <td>아직너무초기라서 그런거죠?</td>\n",
       "      <td>공포</td>\n",
       "    </tr>\n",
       "    <tr>\n",
       "      <th>3</th>\n",
       "      <td>유치원버스 사고 낫다던데</td>\n",
       "      <td>공포</td>\n",
       "    </tr>\n",
       "    <tr>\n",
       "      <th>4</th>\n",
       "      <td>근데 원래이런거맞나요</td>\n",
       "      <td>공포</td>\n",
       "    </tr>\n",
       "  </tbody>\n",
       "</table>\n",
       "</div>"
      ],
      "text/plain": [
       "                   Sentence Emotion\n",
       "0  언니 동생으로 부르는게 맞는 일인가요..??      공포\n",
       "1              그냥 내 느낌일뿐겠지?      공포\n",
       "2            아직너무초기라서 그런거죠?      공포\n",
       "3             유치원버스 사고 낫다던데      공포\n",
       "4               근데 원래이런거맞나요      공포"
      ]
     },
     "execution_count": 48,
     "metadata": {},
     "output_type": "execute_result"
    }
   ],
   "source": [
    "df3 = df3[[\"Sentence\", \"Emotion\"]]\n",
    "print(df3.shape)\n",
    "df3.head()"
   ]
  },
  {
   "cell_type": "code",
   "execution_count": 12,
   "metadata": {},
   "outputs": [
    {
     "name": "stdout",
     "output_type": "stream",
     "text": [
      "(11823, 3)\n"
     ]
    },
    {
     "data": {
      "text/html": [
       "<div>\n",
       "<style scoped>\n",
       "    .dataframe tbody tr th:only-of-type {\n",
       "        vertical-align: middle;\n",
       "    }\n",
       "\n",
       "    .dataframe tbody tr th {\n",
       "        vertical-align: top;\n",
       "    }\n",
       "\n",
       "    .dataframe thead th {\n",
       "        text-align: right;\n",
       "    }\n",
       "</style>\n",
       "<table border=\"1\" class=\"dataframe\">\n",
       "  <thead>\n",
       "    <tr style=\"text-align: right;\">\n",
       "      <th></th>\n",
       "      <th>Q</th>\n",
       "      <th>A</th>\n",
       "      <th>label</th>\n",
       "    </tr>\n",
       "  </thead>\n",
       "  <tbody>\n",
       "    <tr>\n",
       "      <th>0</th>\n",
       "      <td>12시 땡!</td>\n",
       "      <td>하루가 또 가네요.</td>\n",
       "      <td>0</td>\n",
       "    </tr>\n",
       "    <tr>\n",
       "      <th>1</th>\n",
       "      <td>1지망 학교 떨어졌어</td>\n",
       "      <td>위로해 드립니다.</td>\n",
       "      <td>0</td>\n",
       "    </tr>\n",
       "    <tr>\n",
       "      <th>2</th>\n",
       "      <td>3박4일 놀러가고 싶다</td>\n",
       "      <td>여행은 언제나 좋죠.</td>\n",
       "      <td>0</td>\n",
       "    </tr>\n",
       "    <tr>\n",
       "      <th>3</th>\n",
       "      <td>3박4일 정도 놀러가고 싶다</td>\n",
       "      <td>여행은 언제나 좋죠.</td>\n",
       "      <td>0</td>\n",
       "    </tr>\n",
       "    <tr>\n",
       "      <th>4</th>\n",
       "      <td>PPL 심하네</td>\n",
       "      <td>눈살이 찌푸려지죠.</td>\n",
       "      <td>0</td>\n",
       "    </tr>\n",
       "  </tbody>\n",
       "</table>\n",
       "</div>"
      ],
      "text/plain": [
       "                 Q            A  label\n",
       "0           12시 땡!   하루가 또 가네요.      0\n",
       "1      1지망 학교 떨어졌어    위로해 드립니다.      0\n",
       "2     3박4일 놀러가고 싶다  여행은 언제나 좋죠.      0\n",
       "3  3박4일 정도 놀러가고 싶다  여행은 언제나 좋죠.      0\n",
       "4          PPL 심하네   눈살이 찌푸려지죠.      0"
      ]
     },
     "execution_count": 12,
     "metadata": {},
     "output_type": "execute_result"
    }
   ],
   "source": [
    "df4 = pd.read_csv(\"ChatbotData .csv\") # 일상다반서 : 0, 이별(부정) : 1, 사랑(긍정) : 2\n",
    "print(df4.shape)\n",
    "df4.head()"
   ]
  },
  {
   "cell_type": "code",
   "execution_count": 52,
   "metadata": {},
   "outputs": [
    {
     "name": "stdout",
     "output_type": "stream",
     "text": [
      "(11823, 2)\n"
     ]
    },
    {
     "data": {
      "text/html": [
       "<div>\n",
       "<style scoped>\n",
       "    .dataframe tbody tr th:only-of-type {\n",
       "        vertical-align: middle;\n",
       "    }\n",
       "\n",
       "    .dataframe tbody tr th {\n",
       "        vertical-align: top;\n",
       "    }\n",
       "\n",
       "    .dataframe thead th {\n",
       "        text-align: right;\n",
       "    }\n",
       "</style>\n",
       "<table border=\"1\" class=\"dataframe\">\n",
       "  <thead>\n",
       "    <tr style=\"text-align: right;\">\n",
       "      <th></th>\n",
       "      <th>Q</th>\n",
       "      <th>label</th>\n",
       "    </tr>\n",
       "  </thead>\n",
       "  <tbody>\n",
       "    <tr>\n",
       "      <th>0</th>\n",
       "      <td>12시 땡!</td>\n",
       "      <td>0</td>\n",
       "    </tr>\n",
       "    <tr>\n",
       "      <th>1</th>\n",
       "      <td>1지망 학교 떨어졌어</td>\n",
       "      <td>0</td>\n",
       "    </tr>\n",
       "    <tr>\n",
       "      <th>2</th>\n",
       "      <td>3박4일 놀러가고 싶다</td>\n",
       "      <td>0</td>\n",
       "    </tr>\n",
       "    <tr>\n",
       "      <th>3</th>\n",
       "      <td>3박4일 정도 놀러가고 싶다</td>\n",
       "      <td>0</td>\n",
       "    </tr>\n",
       "    <tr>\n",
       "      <th>4</th>\n",
       "      <td>PPL 심하네</td>\n",
       "      <td>0</td>\n",
       "    </tr>\n",
       "  </tbody>\n",
       "</table>\n",
       "</div>"
      ],
      "text/plain": [
       "                 Q  label\n",
       "0           12시 땡!      0\n",
       "1      1지망 학교 떨어졌어      0\n",
       "2     3박4일 놀러가고 싶다      0\n",
       "3  3박4일 정도 놀러가고 싶다      0\n",
       "4          PPL 심하네      0"
      ]
     },
     "execution_count": 52,
     "metadata": {},
     "output_type": "execute_result"
    }
   ],
   "source": [
    "df4 = df4[[\"Q\", \"label\"]]\n",
    "print(df4.shape)\n",
    "df4.head()"
   ]
  },
  {
   "cell_type": "code",
   "execution_count": null,
   "metadata": {},
   "outputs": [],
   "source": []
  },
  {
   "cell_type": "code",
   "execution_count": null,
   "metadata": {},
   "outputs": [],
   "source": []
  },
  {
   "cell_type": "code",
   "execution_count": 57,
   "metadata": {},
   "outputs": [
    {
     "name": "stdout",
     "output_type": "stream",
     "text": [
      "Index(['구분', '유저'], dtype='object')\n",
      "Index(['keyword(임상키워드)', 'utterance', 'utterance(2차) '], dtype='object')\n",
      "Index(['Sentence', 'Emotion'], dtype='object')\n",
      "Index(['Q', 'label'], dtype='object')\n"
     ]
    }
   ],
   "source": [
    "print(df1.columns)\n",
    "print(df2.columns)\n",
    "print(df3.columns)\n",
    "print(df4.columns)"
   ]
  },
  {
   "cell_type": "code",
   "execution_count": 56,
   "metadata": {
    "scrolled": true
   },
   "outputs": [
    {
     "name": "stdout",
     "output_type": "stream",
     "text": [
      "['감정/감정조절이상' '감정/감정조절이상/화' '감정/걱정' '감정/걱정/건강문제' '감정/걱정/건강염려' '감정/걱정/경제적문제'\n",
      " '감정/걱정/미래' '감정/걱정/불면' '감정/걱정/암' '감정/걱정/자녀' '감정/걱정/주변평가' '감정/걱정/증상재발'\n",
      " '감정/고독감' '감정/곤혹감' '감정/공포' '감정/공포/새' '감정/공허감' '감정/과민반응' '감정/괴로움' '감정/기분저하'\n",
      " '감정/기시감' '감정/긴장' '감정/눈물' '감정/답답' '감정/답답/사람많은곳' '감정/당황' '감정/두려움'\n",
      " '감정/두려움/운전' '감정/두려움/자동차' '감정/멍함' '감정/모호함' '감정/무력감' '감정/무미건조' '감정/무서움'\n",
      " '감정/미안함/자녀' '감정/미움' '감정/배신감' '감정/부정적사고' '감정/분노' '감정/불만' '감정/불신' '감정/불안감'\n",
      " '감정/불안감/긴장' '감정/불안감/미래' '감정/불안감/증상재발' '감정/불안감/초조함' '감정/불쾌감' '감정/불편감'\n",
      " '감정/비관적' '감정/살인욕구' '감정/생각' '감정/서운함' '감정/속상함' '감정/슬픔' '감정/신경쓰임' '감정/심란'\n",
      " '감정/억울함' '감정/예민함' '감정/외로움' '감정/우울감' '감정/우울감/눈물' '감정/우울감/증상재발'\n",
      " '감정/우울감/증상지속' '감정/의기소침' '감정/의기소침/자격지심' '감정/의욕상실' '감정/의욕상실/무기력' '감정/자괴감'\n",
      " '감정/자살충동' '감정/자신감저하' '감정/자존감저하' '감정/절망감' '감정/좌절' '감정/죄책감' '감정/즐거움'\n",
      " '감정/짜증' '감정/창피함' '감정/초조함' '감정/충격' '감정/통제력상실' '감정/허무함' '감정/화' '감정/후회'\n",
      " '감정/후회/결혼' '감정/힘듦' '감정/힘듦/스트레스' '감정/힘듦/지침' '내원이유/상담' '내원이유/의사소견'\n",
      " '내원이유/치료' '모호함' '배경/가족' '배경/가족/갈등' '배경/가족/무관심' '배경/건강문제' '배경/건강문제/갑상선'\n",
      " '배경/건강문제/다이어트' '배경/건강문제/다이어트/스트레스' '배경/건강문제/생리불순' '배경/건강문제/수술'\n",
      " '배경/건강문제/알레르기' '배경/건강문제/항암' '배경/결혼' '배경/결혼/미혼' '배경/경제적문제' '배경/경제적문제/가난'\n",
      " '배경/경제적문제/빚' '배경/공부' '배경/공부/부진' '배경/군대/군입대' '배경/귀국' '배경/남자친구'\n",
      " '배경/남자친구/고민/없음' '배경/남자친구/동경' '배경/남자친구/없음' '배경/남자친구/이별' '배경/남자친구/집착'\n",
      " '배경/남자친구/짧은교제' '배경/남편' '배경/남편/갈등' '배경/남편/경제적문제' '배경/남편/과음' '배경/남편/관계소원'\n",
      " '배경/남편/관계양호' '배경/남편/다툼' '배경/남편/무관심' '배경/남편/바람' '배경/남편/사업' '배경/남편/소통불가'\n",
      " '배경/남편/의심' '배경/남편/의지' '배경/남편/폭력' '배경/대인관계' '배경/대인관계/갈등' '배경/대인관계/양호'\n",
      " '배경/대인관계/협소' '배경/대학' '배경/대학/실패' '배경/대학/실패/재수' '배경/대학/입학' '배경/대학/재수'\n",
      " '배경/대학/휴학' '배경/문제' '배경/문제/과음' '배경/문제/머리카락/털뽑기' '배경/문제/불면' '배경/문제/불안감/소변'\n",
      " '배경/문제/불편감/옷' '배경/문제/소변' '배경/문제/알코올의존' '배경/부모' '배경/부모/가출/아버지' '배경/부모/갈등'\n",
      " '배경/부모/갈등/아버지' '배경/부모/관계소원' '배경/부모/무관심' '배경/부모/싸움' '배경/부모/아버지'\n",
      " '배경/부모/아버지/죽음' '배경/부모/아버지/폭력' '배경/부모/어머니/죽음' '배경/부모/이혼' '배경/부모/죽음'\n",
      " '배경/사고' '배경/사고/교통사고' '배경/사업' '배경/사업/경제적문제/실패' '배경/사업/남편/동업자' '배경/사업/실패'\n",
      " '배경/생활' '배경/생활/불가능/운전' '배경/생활/스트레스' '배경/생활/양호' '배경/생활/여행/해외' '배경/생활/운동'\n",
      " '배경/생활/자연소멸/증상' '배경/생활/취미' '배경/생활/폭행/피해' '배경/생활/해외' '배경/생활/혼자' '배경/생활/휴식'\n",
      " '배경/성격' '배경/성격/극단적' '배경/성격/급함' '배경/성격/내성적' '배경/성격/소심' '배경/성격/예민함'\n",
      " '배경/성격/완벽추구' '배경/성격/욕심많음' '배경/성격/자기중심적' '배경/성격/자립적' '배경/시댁' '배경/시댁/갈등'\n",
      " '배경/시댁/갈등/시어머니' '배경/시댁/경제적문제' '배경/아르바이트' '배경/애완동물' '배경/애완동물/가족/갈등'\n",
      " '배경/어린시절' '배경/어린시절/가난' '배경/여자친구' '배경/여자친구/관계소원' '배경/여자친구/동거' '배경/여자친구/이별'\n",
      " '배경/연애' '배경/연애/이별' '배경/유학' '배경/육아/힘듦' '배경/음주' '배경/음주/과음' '배경/음주/알코올의존'\n",
      " '배경/음주/애주가' '배경/음주/자주' '배경/이사' '배경/이혼' '배경/임신' '배경/임신/낙태' '배경/자각/우울증'\n",
      " '배경/자각/정신질환' '배경/자녀' '배경/전연인' '배경/종교' '배경/직장' '배경/직장/고민/퇴사' '배경/직장/과도한업무'\n",
      " '배경/직장/반복/이직' '배경/직장/복직' '배경/직장/불만' '배경/직장/불만/업무' '배경/직장/스트레스' '배경/직장/양호'\n",
      " '배경/직장/없음/흥미' '배경/직장/이직' '배경/직장/퇴사' '배경/직장/휴직' '배경/진로' '배경/취업' '배경/취업/준비'\n",
      " '배경/취업/힘듦' '배경/친구' '배경/친구/관계소원' '배경/친구/배신' '배경/친구/없음' '배경/타인/갈등' '배경/학교'\n",
      " '배경/학교/갈등/선생님' '배경/학교/결석' '배경/학교/따돌림' '배경/학교/자퇴' '배경/학업' '배경/학업/부진'\n",
      " '배경/학업/양호' '배경/학업/우수' '부가설명' '상태/양호' '상태/증상감소' '상태/증상지속' '원인/없음' '일반대화'\n",
      " '자가치료/심리조절' '자가치료/심리조절/증상지속' '자가치료/운동' '자가치료/충분한휴식' '증상/가슴답답' '증상/가슴떨림'\n",
      " '증상/가슴통증' '증상/건강염려' '증상/공격적성향' '증상/공황발작' '증상/과대망상' '증상/과수면' '증상/기억력저하'\n",
      " '증상/기억력저하/집중력저하' '증상/기억상실' '증상/기절' '증상/기절예기' '증상/대인기피' '증상/대화기피'\n",
      " '증상/두근거림' '증상/두근거림/불면' '증상/두통' '증상/두통/불면' '증상/떨림' '증상/만성피로' '증상/메스꺼움'\n",
      " '증상/무기력' '증상/무기력/은둔' '증상/무기력/의욕상실' '증상/반복사고' '증상/반복사고/트라우마' '증상/반복행동'\n",
      " '증상/반복행동/대화' '증상/반복행동/문단속' '증상/반복행동/손씻기' '증상/반복행동/확인' '증상/발작' '증상/불면'\n",
      " '증상/불면/불안감' '증상/불면/생각많음' '증상/불면/스트레스' '증상/불면/예민함' '증상/불면/증상지속' '증상/불면/피로'\n",
      " '증상/생리불순' '증상/성격변화' '증상/성욕상승' '증상/소화불량' '증상/속쓰림' '증상/시력저하' '증상/식욕저하'\n",
      " '증상/식욕저하/불면' '증상/식욕저하/체중감소' '증상/신체이상/목' '증상/악몽' '증상/알코올의존' '증상/어지러움'\n",
      " '증상/은둔' '증상/이명' '증상/이인감' '증상/인지기능저하' '증상/자살시도' '증상/자해' '증상/저림현상/발/손'\n",
      " '증상/죽음공포' '증상/죽음공포/호흡곤란' '증상/집중력저하' '증상/체력저하' '증상/체중감소' '증상/체중증가'\n",
      " '증상/컨디션저조' '증상/통증' '증상/통증/목' '증상/통증/전신' '증상/통증/허리' '증상/편두통' '증상/폭식'\n",
      " '증상/폭식/스트레스/해소' '증상/피로' '증상/피로/불면' '증상/피해망상' '증상/피해망상/감시' '증상/피해망상/감시/남편'\n",
      " '증상/피해망상/남편' '증상/피해망상/도청' '증상/호흡곤란' '증상/호흡곤란/가슴답답' '증상/환각' '증상/환청'\n",
      " '증상/힘빠짐' '치료이력/검사' '치료이력/검사/이상없음' '치료이력/병원내원' '치료이력/병원내원/검사/이상없음'\n",
      " '치료이력/병원내원/복약' '치료이력/병원내원/이상없음' '치료이력/응급실' '현재상태/증상감소' '현재상태/증상악화'\n",
      " '현재상태/증상지속']\n"
     ]
    }
   ],
   "source": [
    "print(df1[\"구분\"].unique())"
   ]
  },
  {
   "cell_type": "code",
   "execution_count": null,
   "metadata": {},
   "outputs": [],
   "source": []
  }
 ],
 "metadata": {
  "kernelspec": {
   "display_name": "Python 3",
   "language": "python",
   "name": "python3"
  },
  "language_info": {
   "codemirror_mode": {
    "name": "ipython",
    "version": 3
   },
   "file_extension": ".py",
   "mimetype": "text/x-python",
   "name": "python",
   "nbconvert_exporter": "python",
   "pygments_lexer": "ipython3",
   "version": "3.7.6"
  },
  "toc": {
   "base_numbering": 1,
   "nav_menu": {},
   "number_sections": true,
   "sideBar": true,
   "skip_h1_title": false,
   "title_cell": "Table of Contents",
   "title_sidebar": "Contents",
   "toc_cell": true,
   "toc_position": {},
   "toc_section_display": true,
   "toc_window_display": false
  },
  "varInspector": {
   "cols": {
    "lenName": 16,
    "lenType": 16,
    "lenVar": 40
   },
   "kernels_config": {
    "python": {
     "delete_cmd_postfix": "",
     "delete_cmd_prefix": "del ",
     "library": "var_list.py",
     "varRefreshCmd": "print(var_dic_list())"
    },
    "r": {
     "delete_cmd_postfix": ") ",
     "delete_cmd_prefix": "rm(",
     "library": "var_list.r",
     "varRefreshCmd": "cat(var_dic_list()) "
    }
   },
   "types_to_exclude": [
    "module",
    "function",
    "builtin_function_or_method",
    "instance",
    "_Feature"
   ],
   "window_display": false
  }
 },
 "nbformat": 4,
 "nbformat_minor": 4
}
